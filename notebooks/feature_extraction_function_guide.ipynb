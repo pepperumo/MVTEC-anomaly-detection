{
 "cells": [
  {
   "cell_type": "markdown",
   "metadata": {},
   "source": [
    "# **Feature Extraction Function Guide**"
   ]
  },
  {
   "cell_type": "markdown",
   "metadata": {},
   "source": [
    "## *1. Importing Functions from feature_extraction.py*\n",
    "\n",
    "\n",
    "- Purpose:\n",
    "   \n",
    "    This imports all functions and variables from the file feature_extraction.py. It assumes that the file contains utility functions for processing the MVTec anomaly detection dataset. \n",
    "\n",
    "- Key Imported Function: \n",
    "  \n",
    "    The primary function used is assemble_mvtec_dataset_train_test()"
   ]
  },
  {
   "cell_type": "code",
   "execution_count": 1,
   "metadata": {},
   "outputs": [
    {
     "ename": "ModuleNotFoundError",
     "evalue": "No module named 'feature_extraction'",
     "output_type": "error",
     "traceback": [
      "\u001b[1;31m---------------------------------------------------------------------------\u001b[0m",
      "\u001b[1;31mModuleNotFoundError\u001b[0m                       Traceback (most recent call last)",
      "Cell \u001b[1;32mIn[1], line 2\u001b[0m\n\u001b[0;32m      1\u001b[0m \u001b[38;5;66;03m# import all from file feature_extraction.py\u001b[39;00m\n\u001b[1;32m----> 2\u001b[0m \u001b[38;5;28;01mfrom\u001b[39;00m\u001b[38;5;250m \u001b[39m\u001b[38;5;21;01mfeature_extraction\u001b[39;00m\u001b[38;5;250m \u001b[39m\u001b[38;5;28;01mimport\u001b[39;00m \u001b[38;5;241m*\u001b[39m\n",
      "\u001b[1;31mModuleNotFoundError\u001b[0m: No module named 'feature_extraction'"
     ]
    }
   ],
   "source": [
    "# import all from file feature_extraction.py\n",
    "from feature_extraction import *"
   ]
  },
  {
   "cell_type": "markdown",
   "metadata": {},
   "source": [
    "## *2. About assemble_mvtec_dataset_train_test()*"
   ]
  },
  {
   "cell_type": "markdown",
   "metadata": {},
   "source": [
    "- ##### Purpose: \n",
    "  - This function processes the MVTec anomaly detection dataset, creating multiple derived datasets and saving them as pickle files for efficient reuse.\n",
    "  \n",
    "- ##### Inputs:\n",
    "\n",
    "  - path_to_mvtec_dataset_dir: Path to the dataset directory containing image categories.\n",
    "  - Flags like force_pkl_overwrite allow forcing re-computation of various datasets even if pickle files already exist.\n",
    "\n",
    "- ##### Outputs:\n",
    "\n",
    "  - Returns seven datasets:\n",
    "    - categories: A list of image category names.\n",
    "    - image_paths: A dictionary mapping categories to lists of image file paths.\n",
    "    - resized_images: A dictionary mapping categories to resized images (as numpy arrays).\n",
    "    - metadata_df: A DataFrame containing metadata about all images.\n",
    "    - features_df: A DataFrame of extracted features for all images.\n",
    "    - pixel_df: A DataFrame where images are flattened into 1D arrays.\n",
    "    - train_test_df: A merged DataFrame containing metadata, features, and pixel data.\n",
    "\n",
    "- ##### Saves: \n",
    "\n",
    "These datasets are saved as pickle files in the directory /pickle_files for reuse.\n"
   ]
  },
  {
   "cell_type": "code",
   "execution_count": 2,
   "metadata": {},
   "outputs": [
    {
     "name": "stdout",
     "output_type": "stream",
     "text": [
      "Help on function assemble_mvtec_dataset_train_test in module feature_extraction:\n",
      "\n",
      "assemble_mvtec_dataset_train_test(path_to_mvtec_dataset_dir, force_pkl_overwrite=False, force_pkl_overwrite_resized=False, force_pkl_overwrite_metadata=False, force_pkl_overwrite_features=False, force_pkl_overwrite_pixel=False, force_pkl_overwrite_train_test=False)\n",
      "    computes and/or loads several datasets and lists from the mvtec anomaly detection dataset. \n",
      "    the data is read from .pkl file if it has been previously computed, unless re-computation and overwrite is forced by setting the corresponding flag.\n",
      "    \n",
      "    returns 'categories', 'image_paths', 'resized_images', 'metadata_df', 'features_df', 'pixel_df', 'train_test_df' where \n",
      "        categories -- list of categories in mvtec dataset\n",
      "        image_paths -- dictionary (keys: categories. values: list of paths to all image files for given category)\n",
      "        resized_images -- dictionary (keys: categories. values: list of resized images as np.arrays for given category)\n",
      "        metadata_df -- DataFrame containing meatadata for all images\n",
      "        features_df -- DataFrame containing features computed for all images in resized_images\n",
      "        pixel_df -- DataFrame with all images from resized_images flattened from (224 x 224 x 3) to (1 x 150528) \n",
      "        train_test_df -- DataFrame containing metadata_df, features_df and pixel_df concatenated into one\n",
      "    \n",
      "    creates folder 'path_to_mvtec_dataset_dir/pickle_files' and saves the following data as pickle files (.pkl) if not present or if forced:\n",
      "        resized_images to 'resized_images.pkl'\n",
      "        metadata_df to 'image_metadata.pkl'\n",
      "        features_df to 'image_features.pkl'\n",
      "        pixel_df to 'image_pixel.pkl'\n",
      "        train_test_df to 'train_test_df_metadata_features_pixels.pkl'\n",
      "    \n",
      "    Arguments:\n",
      "        path_to_mvtec_dataset_dir -- path to mvtec_anomaly_detection dataset (the folder, that contains all the category folders)\n",
      "        force_pkl_overwrite -- re-compute all extracted data, and overwrite existing .pkl files\n",
      "        force_pkl_overwrite_resized -- re-compute resized_images and overwrite existing .pkl file\n",
      "        force_pkl_overwrite_metadata -- re-compute metadata_df and overwrite existing .pkl file\n",
      "        force_pkl_overwrite_features -- re-compute features_df and overwrite existing .pkl file\n",
      "        force_pkl_overwrite_pixel -- re-compute pixel_df and overwrite existing .pkl file\n",
      "        force_pkl_overwrite_train_test -- re-compute train_test_df and overwrite existing .pkl file\n",
      "\n"
     ]
    }
   ],
   "source": [
    "# principal function in feature_extraction.py is assemble_mvtec_dataset_train_test()\n",
    "help(assemble_mvtec_dataset_train_test)"
   ]
  },
  {
   "cell_type": "markdown",
   "metadata": {},
   "source": [
    "## *3. Defining the Dataset Directory*"
   ]
  },
  {
   "cell_type": "markdown",
   "metadata": {},
   "source": [
    "Specifies the path to the MVTec anomaly detection dataset directory. This directory should contain subfolders for each category (e.g., \"bottle\", \"cable\", etc.)."
   ]
  },
  {
   "cell_type": "code",
   "execution_count": 3,
   "metadata": {},
   "outputs": [
    {
     "name": "stdout",
     "output_type": "stream",
     "text": [
      "C:/Mici/Unterlagen/DataScientest/Project/DS_project_workspace/Data/mvtec_anomaly_detection\n"
     ]
    }
   ],
   "source": [
    "# give path to mvtec_anomaly_detection dataset (to the folder, that contains all the category folders)\n",
    "dataset_dir = 'C:/Mici/Unterlagen/DataScientest/Project/DS_project_workspace/Data/mvtec_anomaly_detection'\n",
    "print(dataset_dir)\n"
   ]
  },
  {
   "cell_type": "markdown",
   "metadata": {},
   "source": [
    "## *4. Using assemble_mvtec_dataset_train_test()*"
   ]
  },
  {
   "cell_type": "markdown",
   "metadata": {},
   "source": [
    "- ##### Purpose: \n",
    "- Calls the function to:\n",
    "\n",
    "  - Load preprocessed datasets from pickle files (if they exist).\n",
    "  - Otherwise, preprocess the raw dataset and save results as pickle files.\n",
    "  - \n",
    "- ##### Result: \n",
    "- The outputs are loaded into variables for further processing or analysis"
   ]
  },
  {
   "cell_type": "code",
   "execution_count": 4,
   "metadata": {},
   "outputs": [
    {
     "name": "stdout",
     "output_type": "stream",
     "text": [
      "category names have been extracted.\n",
      "image paths have been extracted.\n",
      "loaded resized_images from .pkl file.\n",
      "loaded metadata_df from .pkl file.\n",
      "loaded features_df from .pkl file.\n",
      "loaded pixel_df from .pkl file.\n",
      "loaded train_test_df from .pkl file.\n",
      "done.\n"
     ]
    }
   ],
   "source": [
    "# use function to create datasets or read from files, if present \n",
    "categories, image_paths, resized_images, metadata_df, features_df, pixel_df, train_test_df = assemble_mvtec_dataset_train_test(dataset_dir)\n",
    "print('done.')"
   ]
  },
  {
   "cell_type": "markdown",
   "metadata": {},
   "source": [
    "## *5. Checking the Returned Outputs*"
   ]
  },
  {
   "cell_type": "markdown",
   "metadata": {},
   "source": [
    "Purpose: \n",
    "Verifies the types and sizes of the returned datasets.\n",
    "\n",
    "Key Observations:\n",
    "1. Categories: A list of 15 image category names.\n",
    "2. Image Paths: A dictionary mapping categories to image paths.\n",
    "3. Resized Images: A dictionary with preprocessed (resized) images.\n",
    "4. Metadata DataFrame: Contains 8 columns (e.g., image names, labels, etc.) for 5,354 images.\n",
    "5. Features DataFrame: Contains 40 features extracted for each of the 5,354 images.\n",
    "6. Pixel DataFrame: Contains flattened images (224×224×3 → 150,528 features).\n",
    "7. Train-Test DataFrame: Combines metadata, features, and pixel data into one DataFrame with 150,576 columns.\n"
   ]
  },
  {
   "cell_type": "code",
   "execution_count": 5,
   "metadata": {},
   "outputs": [
    {
     "name": "stdout",
     "output_type": "stream",
     "text": [
      "\n",
      "\n",
      "type of  categories :  <class 'list'>\n",
      "    length is  15\n",
      "\n",
      "\n",
      "type of  image_paths :  <class 'dict'>\n",
      "    keys are  dict_keys(['bottle', 'cable', 'capsule', 'carpet', 'grid', 'hazelnut', 'leather', 'metal_nut', 'pill', 'screw', 'tile', 'toothbrush', 'transistor', 'wood', 'zipper'])\n",
      "\n",
      "\n",
      "type of  resized_images :  <class 'dict'>\n",
      "    keys are  dict_keys(['bottle', 'cable', 'capsule', 'carpet', 'grid', 'hazelnut', 'leather', 'metal_nut', 'pill', 'screw', 'tile', 'toothbrush', 'transistor', 'wood', 'zipper'])\n",
      "\n",
      "\n",
      "type of  metadata_df :  <class 'pandas.core.frame.DataFrame'>\n",
      "    size is  (5354, 8)\n",
      "\n",
      "\n",
      "type of  features_df :  <class 'pandas.core.frame.DataFrame'>\n",
      "    size is  (5354, 40)\n",
      "\n",
      "\n",
      "type of  pixel_df :  <class 'pandas.core.frame.DataFrame'>\n",
      "    size is  (5354, 150528)\n",
      "\n",
      "\n",
      "type of  train_test_df :  <class 'pandas.core.frame.DataFrame'>\n",
      "    size is  (5354, 150576)\n"
     ]
    }
   ],
   "source": [
    "# check, what has been returned \n",
    "returned = {'categories': categories, \n",
    "            'image_paths': image_paths, \n",
    "            'resized_images': resized_images, \n",
    "            'metadata_df': metadata_df, \n",
    "            'features_df': features_df, \n",
    "            'pixel_df': pixel_df, \n",
    "            'train_test_df': train_test_df\n",
    "            }\n",
    "for name, data in returned.items():\n",
    "    print('\\n')\n",
    "    print('type of ', name, ': ', type(data))\n",
    "    if isinstance(data, list):\n",
    "        print('    length is ', len(data))\n",
    "    if isinstance(data, dict):\n",
    "        print('    keys are ', data.keys())\n",
    "    if isinstance(data, pd.DataFrame):\n",
    "        print('    size is ', data.shape)\n",
    "\n"
   ]
  },
  {
   "cell_type": "markdown",
   "metadata": {},
   "source": [
    "## *6. MVTec Anomaly Detection Dataset*\n",
    "\n",
    "A dataset containing various categories of objects (e.g., \"bottle\", \"cable\").\n",
    "Includes images labeled as normal or anomalous for anomaly detection tasks.\n",
    "\n",
    "### Purpose of the Workflow\n",
    "\n",
    "Preprocesses the dataset for anomaly detection experiments.\n",
    "Converts raw image data into reusable datasets:\n",
    "Categories: List of object types.\n",
    "Image Paths: For accessing raw images.\n",
    "Resized Images: Preprocessed images with a uniform size.\n",
    "Metadata: Useful information about images.\n",
    "Features: High-level features extracted (e.g., embeddings from a model).\n",
    "Pixels: Raw image data in flattened form.\n",
    "Train-Test Dataset: Combined dataset for training/testing models.\n",
    "\n",
    "### Pickle Files\n",
    "\n",
    "Enables efficient storage and retrieval of preprocessed datasets to save computation time.\n",
    "\n",
    "### Train-Test DataFrame\n",
    "\n",
    "Combines:\n",
    "Metadata about images.\n",
    "Extracted features.\n",
    "Flattened pixel data.\n",
    "This makes it ready for training or testing anomaly detection models.\n",
    "\n",
    "### Usage of Flags\n",
    "\n",
    "Flags like force_pkl_overwrite are used to recompute specific datasets (e.g., resized images or features) even if existing pickle files are present.\n",
    "\n",
    "### Example Output Sizes\n",
    "\n",
    "Dataset                 Type            Details\n",
    "categories              List            15 categories.\n",
    "image_paths             Dictionary      Keys are category names.\n",
    "resized_images\t        Dictionary      Keys are category names.\n",
    "metadata_df\t            DataFrame\t    5,354 rows × 8 columns.\n",
    "features_df         \tDataFrame\t    5,354 rows × 40 columns.\n",
    "pixel_df\t            DataFrame\t    5,354 rows × 150,528 columns.\n",
    "train_test_df       \tDataFrame\t    5,354 rows × 150,576 columns.\n",
    "\n",
    "\n",
    "This structured workflow prepares the MVTec dataset for machine learning tasks, ensuring flexibility for preprocessing and efficient loading of intermediate data."
   ]
  }
 ],
 "metadata": {
  "kernelspec": {
   "display_name": "myenv",
   "language": "python",
   "name": "python3"
  },
  "language_info": {
   "codemirror_mode": {
    "name": "ipython",
    "version": 3
   },
   "file_extension": ".py",
   "mimetype": "text/x-python",
   "name": "python",
   "nbconvert_exporter": "python",
   "pygments_lexer": "ipython3",
   "version": "3.9.21"
  }
 },
 "nbformat": 4,
 "nbformat_minor": 2
}
